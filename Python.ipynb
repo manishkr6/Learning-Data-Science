{
 "cells": [
  {
   "cell_type": "markdown",
   "id": "50abedc0-8287-49f7-9259-f76f027b59cd",
   "metadata": {},
   "source": [
    "# 1. Hello World"
   ]
  },
  {
   "cell_type": "code",
   "execution_count": 8,
   "id": "0212ae25-be50-4500-a590-42237d8e90ec",
   "metadata": {},
   "outputs": [
    {
     "name": "stdout",
     "output_type": "stream",
     "text": [
      "Hello World!\n"
     ]
    }
   ],
   "source": [
    "print(\"Hello World!\")"
   ]
  },
  {
   "cell_type": "code",
   "execution_count": 9,
   "id": "8e14cf47-0af9-4395-b9ea-b9f55831e214",
   "metadata": {},
   "outputs": [
    {
     "data": {
      "text/plain": [
       "'Hello World!'"
      ]
     },
     "execution_count": 9,
     "metadata": {},
     "output_type": "execute_result"
    }
   ],
   "source": [
    "\"Hello World!\""
   ]
  },
  {
   "cell_type": "code",
   "execution_count": null,
   "id": "bc9f0bfb-781d-4839-9152-73e6177bfdae",
   "metadata": {},
   "outputs": [
    {
     "name": "stdout",
     "output_type": "stream",
     "text": [
      "Manish Kumar\n"
     ]
    }
   ],
   "source": [
    "# Printing my name\n",
    "print(\"Manish Kumar\")"
   ]
  },
  {
   "cell_type": "markdown",
   "id": "2e3904f0-0258-4065-b788-ea6fce790b93",
   "metadata": {},
   "source": [
    "# 2. Data Type"
   ]
  },
  {
   "cell_type": "code",
   "execution_count": 14,
   "id": "8500477e-3de8-4116-928b-e666c780f1c7",
   "metadata": {},
   "outputs": [
    {
     "data": {
      "text/plain": [
       "bool"
      ]
     },
     "execution_count": 14,
     "metadata": {},
     "output_type": "execute_result"
    }
   ],
   "source": [
    "type(True)"
   ]
  },
  {
   "cell_type": "code",
   "execution_count": 15,
   "id": "8ea1e5df-ded2-4859-a245-54ef3267f989",
   "metadata": {},
   "outputs": [
    {
     "data": {
      "text/plain": [
       "bool"
      ]
     },
     "execution_count": 15,
     "metadata": {},
     "output_type": "execute_result"
    }
   ],
   "source": [
    "type(False)"
   ]
  },
  {
   "cell_type": "code",
   "execution_count": 16,
   "id": "cebce657-d13a-493f-95cb-f9d6b632c8ce",
   "metadata": {},
   "outputs": [
    {
     "data": {
      "text/plain": [
       "str"
      ]
     },
     "execution_count": 16,
     "metadata": {},
     "output_type": "execute_result"
    }
   ],
   "source": [
    "type(\"Manish Kumar\")"
   ]
  },
  {
   "cell_type": "code",
   "execution_count": 17,
   "id": "2f8e1831-38f5-481f-9722-58aa8760b521",
   "metadata": {},
   "outputs": [
    {
     "name": "stdout",
     "output_type": "stream",
     "text": [
      "MANISH KUMAR\n",
      "manish kumar\n",
      "Manish Kumar\n"
     ]
    }
   ],
   "source": [
    "print(\"manish kumar\".upper())\n",
    "print(\"manish kumar\".lower())\n",
    "print(\"manish kumar\".title())"
   ]
  },
  {
   "cell_type": "code",
   "execution_count": 20,
   "id": "b5458662-1914-4bae-b2b8-f76b4931d903",
   "metadata": {},
   "outputs": [
    {
     "data": {
      "text/plain": [
       "2"
      ]
     },
     "execution_count": 20,
     "metadata": {},
     "output_type": "execute_result"
    }
   ],
   "source": [
    "\"manish kumar\".count('a')"
   ]
  },
  {
   "cell_type": "code",
   "execution_count": 22,
   "id": "4983b4b4-db35-4fbf-834e-680470c56226",
   "metadata": {},
   "outputs": [
    {
     "data": {
      "text/plain": [
       "'Hellu Wurld'"
      ]
     },
     "execution_count": 22,
     "metadata": {},
     "output_type": "execute_result"
    }
   ],
   "source": [
    "\"Hello World\".replace('o', 'u')"
   ]
  },
  {
   "cell_type": "markdown",
   "id": "1cd5e48e-4571-475f-9b35-e1b472741531",
   "metadata": {},
   "source": [
    "# 3. Variables "
   ]
  },
  {
   "cell_type": "code",
   "execution_count": 23,
   "id": "7e8f80ce-3c20-4632-b1e1-ea316eb59eab",
   "metadata": {},
   "outputs": [],
   "source": [
    "message_1 = \"I'm learning Python\""
   ]
  },
  {
   "cell_type": "code",
   "execution_count": 24,
   "id": "546530cd-afbe-4f60-98e4-bdd9dae727ed",
   "metadata": {},
   "outputs": [
    {
     "data": {
      "text/plain": [
       "\"I'm learning Python\""
      ]
     },
     "execution_count": 24,
     "metadata": {},
     "output_type": "execute_result"
    }
   ],
   "source": [
    "message_1"
   ]
  },
  {
   "cell_type": "code",
   "execution_count": 25,
   "id": "2cfba430-3e81-406a-8964-1a9b5808a389",
   "metadata": {},
   "outputs": [],
   "source": [
    "message_2 = \"and it's fun!\""
   ]
  },
  {
   "cell_type": "code",
   "execution_count": 26,
   "id": "7997d890-32f2-4242-9944-f8eaff511700",
   "metadata": {},
   "outputs": [
    {
     "data": {
      "text/plain": [
       "\"and it's fun!\""
      ]
     },
     "execution_count": 26,
     "metadata": {},
     "output_type": "execute_result"
    }
   ],
   "source": [
    "message_2"
   ]
  },
  {
   "cell_type": "code",
   "execution_count": 27,
   "id": "aae53183-2d42-463a-aaa1-586748f9c15c",
   "metadata": {},
   "outputs": [
    {
     "data": {
      "text/plain": [
       "\"I'm learning Pythonand it's fun!\""
      ]
     },
     "execution_count": 27,
     "metadata": {},
     "output_type": "execute_result"
    }
   ],
   "source": [
    "message_1 + message_2"
   ]
  },
  {
   "cell_type": "code",
   "execution_count": 29,
   "id": "c9f21f4a-43e7-4170-a6d2-d20623b6589f",
   "metadata": {},
   "outputs": [],
   "source": [
    "message = message_1 + ' ' + message_2"
   ]
  },
  {
   "cell_type": "code",
   "execution_count": 30,
   "id": "3f10c10c-0364-4dde-bc67-9352987cf753",
   "metadata": {},
   "outputs": [
    {
     "data": {
      "text/plain": [
       "\"I'm learning Python and it's fun!\""
      ]
     },
     "execution_count": 30,
     "metadata": {},
     "output_type": "execute_result"
    }
   ],
   "source": [
    "message"
   ]
  },
  {
   "cell_type": "code",
   "execution_count": 31,
   "id": "f2438baf-7126-4938-a134-aaffe76df26e",
   "metadata": {},
   "outputs": [
    {
     "data": {
      "text/plain": [
       "\"I'm learning Python and it's fun!\""
      ]
     },
     "execution_count": 31,
     "metadata": {},
     "output_type": "execute_result"
    }
   ],
   "source": [
    "f'{message_1} {message_2}'"
   ]
  },
  {
   "cell_type": "markdown",
   "id": "386e31ab-ca73-4ca0-af13-a156004931d4",
   "metadata": {},
   "source": [
    "# 4. List"
   ]
  },
  {
   "cell_type": "code",
   "execution_count": 35,
   "id": "db3d7d07-9a33-47ac-9a85-44cceb2d05b5",
   "metadata": {},
   "outputs": [],
   "source": [
    "countries = ['United State', 'India', 'China', 'Brazil']"
   ]
  },
  {
   "cell_type": "code",
   "execution_count": 36,
   "id": "0941bf7d-813c-40ba-9d61-d60286a8befc",
   "metadata": {},
   "outputs": [
    {
     "data": {
      "text/plain": [
       "['United State', 'India', 'China', 'Brazil']"
      ]
     },
     "execution_count": 36,
     "metadata": {},
     "output_type": "execute_result"
    }
   ],
   "source": [
    "countries"
   ]
  },
  {
   "cell_type": "code",
   "execution_count": 38,
   "id": "b581225e-764e-453f-bedb-0ce1ae2238c2",
   "metadata": {},
   "outputs": [
    {
     "name": "stdout",
     "output_type": "stream",
     "text": [
      "United State\n",
      "India\n",
      "China\n",
      "Brazil\n"
     ]
    }
   ],
   "source": [
    "print(countries[0])\n",
    "print(countries[1])\n",
    "print(countries[2])\n",
    "print(countries[3])"
   ]
  },
  {
   "cell_type": "code",
   "execution_count": 39,
   "id": "aadb989a-fe83-4439-9da3-8b09f5965119",
   "metadata": {},
   "outputs": [
    {
     "data": {
      "text/plain": [
       "'Brazil'"
      ]
     },
     "execution_count": 39,
     "metadata": {},
     "output_type": "execute_result"
    }
   ],
   "source": [
    "countries[-1]"
   ]
  },
  {
   "cell_type": "code",
   "execution_count": 40,
   "id": "346ff4aa-c6a4-46e7-a2ae-dfd24bfc87fc",
   "metadata": {},
   "outputs": [
    {
     "data": {
      "text/plain": [
       "'United State'"
      ]
     },
     "execution_count": 40,
     "metadata": {},
     "output_type": "execute_result"
    }
   ],
   "source": [
    "countries[-4]"
   ]
  },
  {
   "cell_type": "code",
   "execution_count": 41,
   "id": "7198b49b-5e0f-4478-a266-44d88cd0587e",
   "metadata": {},
   "outputs": [],
   "source": [
    "# slicing\n",
    "# list_name = [start:stop]"
   ]
  },
  {
   "cell_type": "code",
   "execution_count": 42,
   "id": "36ff3157-1e66-4df7-9028-278b5a3fef5e",
   "metadata": {},
   "outputs": [
    {
     "data": {
      "text/plain": [
       "['United State', 'India', 'China']"
      ]
     },
     "execution_count": 42,
     "metadata": {},
     "output_type": "execute_result"
    }
   ],
   "source": [
    "countries[0:3]"
   ]
  },
  {
   "cell_type": "code",
   "execution_count": 43,
   "id": "5721c264-1f51-4279-b412-a61fd4928428",
   "metadata": {},
   "outputs": [
    {
     "data": {
      "text/plain": [
       "['United State']"
      ]
     },
     "execution_count": 43,
     "metadata": {},
     "output_type": "execute_result"
    }
   ],
   "source": [
    "countries[0:1]"
   ]
  },
  {
   "cell_type": "code",
   "execution_count": 44,
   "id": "3ccb1a8d-d9b2-4abd-96fc-d40b1c5b1ee3",
   "metadata": {},
   "outputs": [
    {
     "data": {
      "text/plain": [
       "['India', 'China', 'Brazil']"
      ]
     },
     "execution_count": 44,
     "metadata": {},
     "output_type": "execute_result"
    }
   ],
   "source": [
    "countries[1:]"
   ]
  },
  {
   "cell_type": "code",
   "execution_count": 45,
   "id": "bd6671de-df23-4711-90de-828ded882c1f",
   "metadata": {},
   "outputs": [
    {
     "data": {
      "text/plain": [
       "['United State', 'India']"
      ]
     },
     "execution_count": 45,
     "metadata": {},
     "output_type": "execute_result"
    }
   ],
   "source": [
    "countries[:2]"
   ]
  },
  {
   "cell_type": "markdown",
   "id": "4e512dd4-8179-4a2c-99a5-adc7d6b2b96b",
   "metadata": {},
   "source": [
    "## 4.0.1 Adding element to a list"
   ]
  },
  {
   "cell_type": "code",
   "execution_count": 46,
   "id": "7a6c87ce-d571-49f8-a111-cce38954c64a",
   "metadata": {},
   "outputs": [
    {
     "data": {
      "text/plain": [
       "['United State', 'India', 'China', 'Brazil']"
      ]
     },
     "execution_count": 46,
     "metadata": {},
     "output_type": "execute_result"
    }
   ],
   "source": [
    "countries"
   ]
  },
  {
   "cell_type": "code",
   "execution_count": 47,
   "id": "2dff7c5a-9ee7-40e8-97b2-09418fec4468",
   "metadata": {},
   "outputs": [],
   "source": [
    "countries.append('Canada')"
   ]
  },
  {
   "cell_type": "code",
   "execution_count": 48,
   "id": "7e049c00-e832-48e1-af64-329e7204fdeb",
   "metadata": {},
   "outputs": [
    {
     "data": {
      "text/plain": [
       "['United State', 'India', 'China', 'Brazil', 'Canada']"
      ]
     },
     "execution_count": 48,
     "metadata": {},
     "output_type": "execute_result"
    }
   ],
   "source": [
    "countries"
   ]
  },
  {
   "cell_type": "code",
   "execution_count": 49,
   "id": "8e4a31db-0f94-41f9-bbc6-01c698d665e2",
   "metadata": {},
   "outputs": [],
   "source": [
    "countries.insert(0, 'Spain')"
   ]
  },
  {
   "cell_type": "code",
   "execution_count": 50,
   "id": "812846a3-8421-479a-ab9d-1e43f1556002",
   "metadata": {},
   "outputs": [
    {
     "data": {
      "text/plain": [
       "['Spain', 'United State', 'India', 'China', 'Brazil', 'Canada']"
      ]
     },
     "execution_count": 50,
     "metadata": {},
     "output_type": "execute_result"
    }
   ],
   "source": [
    "countries"
   ]
  },
  {
   "cell_type": "code",
   "execution_count": 51,
   "id": "658976fb-a3c1-45ce-b34a-b840fa43cd2e",
   "metadata": {},
   "outputs": [],
   "source": [
    "countries_2 = ['UK', 'Germany', 'Austria']"
   ]
  },
  {
   "cell_type": "code",
   "execution_count": 52,
   "id": "7806f9c6-288f-4beb-a0d9-5f7536ccead6",
   "metadata": {},
   "outputs": [
    {
     "data": {
      "text/plain": [
       "['Spain',\n",
       " 'United State',\n",
       " 'India',\n",
       " 'China',\n",
       " 'Brazil',\n",
       " 'Canada',\n",
       " 'UK',\n",
       " 'Germany',\n",
       " 'Austria']"
      ]
     },
     "execution_count": 52,
     "metadata": {},
     "output_type": "execute_result"
    }
   ],
   "source": [
    "countries + countries_2"
   ]
  },
  {
   "cell_type": "code",
   "execution_count": 53,
   "id": "7948f803-638d-48f0-9077-7b11da91d73a",
   "metadata": {},
   "outputs": [],
   "source": [
    "nested_list = [countries, countries_2]"
   ]
  },
  {
   "cell_type": "code",
   "execution_count": 54,
   "id": "d36e9fc1-250b-439b-a948-ab487db0c909",
   "metadata": {},
   "outputs": [
    {
     "data": {
      "text/plain": [
       "[['Spain', 'United State', 'India', 'China', 'Brazil', 'Canada'],\n",
       " ['UK', 'Germany', 'Austria']]"
      ]
     },
     "execution_count": 54,
     "metadata": {},
     "output_type": "execute_result"
    }
   ],
   "source": [
    "nested_list"
   ]
  },
  {
   "cell_type": "markdown",
   "id": "4e0f5541-fbc7-44d5-afd8-474e89a097a7",
   "metadata": {},
   "source": [
    "## 4.0.2 Removing an elements"
   ]
  },
  {
   "cell_type": "code",
   "execution_count": 62,
   "id": "240224be-4e11-400b-bc7e-49aabfd4600b",
   "metadata": {},
   "outputs": [
    {
     "data": {
      "text/plain": [
       "['India', 'Brazil']"
      ]
     },
     "execution_count": 62,
     "metadata": {},
     "output_type": "execute_result"
    }
   ],
   "source": [
    "countries"
   ]
  },
  {
   "cell_type": "code",
   "execution_count": 63,
   "id": "de741794-a9ac-428e-9123-ea6c2572820a",
   "metadata": {},
   "outputs": [],
   "source": [
    "countries.remove('India')"
   ]
  },
  {
   "cell_type": "code",
   "execution_count": 64,
   "id": "5dd705e0-d0a0-49c0-8fdc-4e6229628b2f",
   "metadata": {},
   "outputs": [
    {
     "data": {
      "text/plain": [
       "['Brazil']"
      ]
     },
     "execution_count": 64,
     "metadata": {},
     "output_type": "execute_result"
    }
   ],
   "source": [
    "countries"
   ]
  },
  {
   "cell_type": "code",
   "execution_count": 65,
   "id": "672990c1-bb6c-4e5d-aa96-7471e36a7c69",
   "metadata": {},
   "outputs": [],
   "source": [
    "new_countries = ['Spain', 'United State', 'India', 'China', 'Brazil']"
   ]
  },
  {
   "cell_type": "code",
   "execution_count": 66,
   "id": "18ceff96-e419-469d-9bb0-b1266374c04d",
   "metadata": {},
   "outputs": [
    {
     "data": {
      "text/plain": [
       "['Spain', 'United State', 'India', 'China', 'Brazil']"
      ]
     },
     "execution_count": 66,
     "metadata": {},
     "output_type": "execute_result"
    }
   ],
   "source": [
    "new_countries"
   ]
  },
  {
   "cell_type": "code",
   "execution_count": 67,
   "id": "2fe677b4-4b67-44f3-8f9f-b18aa6d16034",
   "metadata": {},
   "outputs": [
    {
     "data": {
      "text/plain": [
       "'Brazil'"
      ]
     },
     "execution_count": 67,
     "metadata": {},
     "output_type": "execute_result"
    }
   ],
   "source": [
    "new_countries.pop(-1)"
   ]
  },
  {
   "cell_type": "code",
   "execution_count": 68,
   "id": "ff366ebd-64fc-4a8d-88c7-cdce64548e6b",
   "metadata": {},
   "outputs": [],
   "source": [
    "del new_countries[0]"
   ]
  },
  {
   "cell_type": "code",
   "execution_count": 69,
   "id": "ee9abc4d-b77d-4856-901b-13ae642120c4",
   "metadata": {},
   "outputs": [
    {
     "data": {
      "text/plain": [
       "['United State', 'India', 'China']"
      ]
     },
     "execution_count": 69,
     "metadata": {},
     "output_type": "execute_result"
    }
   ],
   "source": [
    "new_countries"
   ]
  },
  {
   "cell_type": "markdown",
   "id": "d3175733-53ba-476b-b92d-06758f0313fb",
   "metadata": {},
   "source": [
    "## 4.0.3 Sorting a list"
   ]
  },
  {
   "cell_type": "code",
   "execution_count": 70,
   "id": "09e4e765-2cda-444d-8a2b-59dfa2040e46",
   "metadata": {},
   "outputs": [],
   "source": [
    "numbers = [4, 3, 10, 7, 1, 2]"
   ]
  },
  {
   "cell_type": "code",
   "execution_count": 72,
   "id": "a1054421-f6ec-49e2-b98f-fa1d6b35c58f",
   "metadata": {},
   "outputs": [],
   "source": [
    "numbers.sort()"
   ]
  },
  {
   "cell_type": "code",
   "execution_count": 73,
   "id": "90659c85-0db8-444b-9a33-d7c8a7d41b3a",
   "metadata": {},
   "outputs": [
    {
     "data": {
      "text/plain": [
       "[1, 2, 3, 4, 7, 10]"
      ]
     },
     "execution_count": 73,
     "metadata": {},
     "output_type": "execute_result"
    }
   ],
   "source": [
    "numbers"
   ]
  },
  {
   "cell_type": "code",
   "execution_count": 74,
   "id": "45fb4ebc-eb29-47df-90ff-b389a77c2f0c",
   "metadata": {},
   "outputs": [
    {
     "data": {
      "text/plain": [
       "[10, 7, 4, 3, 2, 1]"
      ]
     },
     "execution_count": 74,
     "metadata": {},
     "output_type": "execute_result"
    }
   ],
   "source": [
    "numbers = [4, 3, 10, 7, 1, 2]\n",
    "numbers.sort(reverse = True)\n",
    "numbers"
   ]
  },
  {
   "cell_type": "markdown",
   "id": "8e7e720a-52e7-4ed8-a8fd-ece256c5998c",
   "metadata": {},
   "source": [
    "## 4.0.4 Update an Element"
   ]
  },
  {
   "cell_type": "code",
   "execution_count": 75,
   "id": "63e3cd67-e29d-4fac-932a-2592d1334cec",
   "metadata": {},
   "outputs": [
    {
     "data": {
      "text/plain": [
       "[20, 7, 4, 3, 2, 1]"
      ]
     },
     "execution_count": 75,
     "metadata": {},
     "output_type": "execute_result"
    }
   ],
   "source": [
    "numbers[0] = 20\n",
    "numbers"
   ]
  },
  {
   "cell_type": "markdown",
   "id": "f9f09da0-0edf-4ad8-93a3-785f47b68ba8",
   "metadata": {},
   "source": [
    "## 4.0.5 Copying a List"
   ]
  },
  {
   "cell_type": "code",
   "execution_count": 78,
   "id": "8232dfae-1537-439d-a714-057e12d0f60d",
   "metadata": {},
   "outputs": [
    {
     "data": {
      "text/plain": [
       "['United State', 'India', 'China']"
      ]
     },
     "execution_count": 78,
     "metadata": {},
     "output_type": "execute_result"
    }
   ],
   "source": [
    "new_countries"
   ]
  },
  {
   "cell_type": "code",
   "execution_count": 79,
   "id": "8afca227-9e83-4265-aa3a-abfd23abdcac",
   "metadata": {},
   "outputs": [
    {
     "data": {
      "text/plain": [
       "['United State', 'India', 'China']"
      ]
     },
     "execution_count": 79,
     "metadata": {},
     "output_type": "execute_result"
    }
   ],
   "source": [
    "new_list = new_countries[:]\n",
    "new_list"
   ]
  },
  {
   "cell_type": "code",
   "execution_count": 82,
   "id": "953c6c8c-d4ea-4cba-88f4-d59206b26623",
   "metadata": {},
   "outputs": [],
   "source": [
    "new_list_2 = new_countries.copy()"
   ]
  },
  {
   "cell_type": "code",
   "execution_count": 83,
   "id": "e2cc2d58-23e4-40d8-998a-a564f9bb5d89",
   "metadata": {},
   "outputs": [
    {
     "data": {
      "text/plain": [
       "['United State', 'India', 'China']"
      ]
     },
     "execution_count": 83,
     "metadata": {},
     "output_type": "execute_result"
    }
   ],
   "source": [
    "new_list_2"
   ]
  },
  {
   "cell_type": "markdown",
   "id": "977d8528-fda6-4b1b-879c-ce989d474182",
   "metadata": {},
   "source": [
    "# 5. Dictionary "
   ]
  },
  {
   "cell_type": "code",
   "execution_count": null,
   "id": "a5370691-5392-4a45-a6ba-7ebda2ebdcc4",
   "metadata": {},
   "outputs": [],
   "source": [
    "my_dict = {'key1':'value1', 'key2':'value2'}"
   ]
  },
  {
   "cell_type": "code",
   "execution_count": 84,
   "id": "d1fcca95-da4c-4b8e-a50c-9bc9cac47a56",
   "metadata": {},
   "outputs": [],
   "source": [
    "my_data = {'name' : 'Manish Kumar', 'age' : 23}"
   ]
  },
  {
   "cell_type": "code",
   "execution_count": 85,
   "id": "ee65a81d-8765-4efe-bad2-5b85a08ad194",
   "metadata": {},
   "outputs": [
    {
     "data": {
      "text/plain": [
       "{'name': 'Manish Kumar', 'age': 23}"
      ]
     },
     "execution_count": 85,
     "metadata": {},
     "output_type": "execute_result"
    }
   ],
   "source": [
    "my_data"
   ]
  },
  {
   "cell_type": "code",
   "execution_count": 86,
   "id": "ba7effdd-3fc7-471a-8dfe-47d92b814d66",
   "metadata": {},
   "outputs": [
    {
     "data": {
      "text/plain": [
       "dict_keys(['name', 'age'])"
      ]
     },
     "execution_count": 86,
     "metadata": {},
     "output_type": "execute_result"
    }
   ],
   "source": [
    "my_data.keys()"
   ]
  },
  {
   "cell_type": "code",
   "execution_count": 88,
   "id": "eb2a5a43-a50b-46de-b77f-ababf3a5a607",
   "metadata": {},
   "outputs": [
    {
     "data": {
      "text/plain": [
       "dict_values(['Manish Kumar', 23])"
      ]
     },
     "execution_count": 88,
     "metadata": {},
     "output_type": "execute_result"
    }
   ],
   "source": [
    "my_data.values()"
   ]
  },
  {
   "cell_type": "code",
   "execution_count": 89,
   "id": "2e725e87-165e-452a-af68-d170d34e45b0",
   "metadata": {},
   "outputs": [
    {
     "data": {
      "text/plain": [
       "dict_items([('name', 'Manish Kumar'), ('age', 23)])"
      ]
     },
     "execution_count": 89,
     "metadata": {},
     "output_type": "execute_result"
    }
   ],
   "source": [
    "my_data.items()"
   ]
  },
  {
   "cell_type": "code",
   "execution_count": 90,
   "id": "d17acfe3-cc76-43ce-921b-2180e3a1b343",
   "metadata": {},
   "outputs": [],
   "source": [
    "my_data['language'] = 'python'"
   ]
  },
  {
   "cell_type": "code",
   "execution_count": 91,
   "id": "7da7a959-2730-4a13-a088-f201571d860c",
   "metadata": {},
   "outputs": [
    {
     "data": {
      "text/plain": [
       "{'name': 'Manish Kumar', 'age': 23, 'language': 'python'}"
      ]
     },
     "execution_count": 91,
     "metadata": {},
     "output_type": "execute_result"
    }
   ],
   "source": [
    "my_data"
   ]
  },
  {
   "cell_type": "code",
   "execution_count": 93,
   "id": "8bb9678d-17cf-46b6-84b4-ec11c61f5492",
   "metadata": {},
   "outputs": [
    {
     "data": {
      "text/plain": [
       "{'name': 'Manish Kumar', 'age': 22, 'language': 'python'}"
      ]
     },
     "execution_count": 93,
     "metadata": {},
     "output_type": "execute_result"
    }
   ],
   "source": [
    "my_data.update({'age':22})\n",
    "my_data"
   ]
  },
  {
   "cell_type": "markdown",
   "id": "72ec7813-88d0-4305-a3d8-5e94f17cabe3",
   "metadata": {},
   "source": [
    "## 5.0.1 Copy a Dictionary "
   ]
  },
  {
   "cell_type": "code",
   "execution_count": 94,
   "id": "148d711e-1bb6-431b-993f-bc28c3f2d36f",
   "metadata": {},
   "outputs": [],
   "source": [
    "new_dict = my_data.copy()"
   ]
  },
  {
   "cell_type": "code",
   "execution_count": 95,
   "id": "a4ad49e9-f600-476b-9bd9-1dc091a3e564",
   "metadata": {},
   "outputs": [
    {
     "data": {
      "text/plain": [
       "{'name': 'Manish Kumar', 'age': 22, 'language': 'python'}"
      ]
     },
     "execution_count": 95,
     "metadata": {},
     "output_type": "execute_result"
    }
   ],
   "source": [
    "new_dict"
   ]
  },
  {
   "cell_type": "markdown",
   "id": "6f027c55-11b8-46a5-a16f-dc1d3a59cedc",
   "metadata": {},
   "source": [
    "## 5.0.2 Remove Elements "
   ]
  },
  {
   "cell_type": "code",
   "execution_count": 96,
   "id": "757bdef3-c77e-416d-a865-48fc495fd887",
   "metadata": {},
   "outputs": [
    {
     "data": {
      "text/plain": [
       "'python'"
      ]
     },
     "execution_count": 96,
     "metadata": {},
     "output_type": "execute_result"
    }
   ],
   "source": [
    "my_data.pop('language')"
   ]
  },
  {
   "cell_type": "code",
   "execution_count": 97,
   "id": "45bc6fdc-5b3c-42db-8d1d-19fd7ec620c4",
   "metadata": {},
   "outputs": [
    {
     "data": {
      "text/plain": [
       "{'name': 'Manish Kumar', 'age': 22}"
      ]
     },
     "execution_count": 97,
     "metadata": {},
     "output_type": "execute_result"
    }
   ],
   "source": [
    "my_data"
   ]
  },
  {
   "cell_type": "code",
   "execution_count": 98,
   "id": "2f7120c0-1500-4015-b36d-39bc51832e97",
   "metadata": {},
   "outputs": [],
   "source": [
    "del my_data['age']"
   ]
  },
  {
   "cell_type": "code",
   "execution_count": 99,
   "id": "a710acb1-390e-487b-b173-f332325f5d83",
   "metadata": {},
   "outputs": [
    {
     "data": {
      "text/plain": [
       "{'name': 'Manish Kumar'}"
      ]
     },
     "execution_count": 99,
     "metadata": {},
     "output_type": "execute_result"
    }
   ],
   "source": [
    "my_data"
   ]
  },
  {
   "cell_type": "code",
   "execution_count": 100,
   "id": "a8ee6851-c862-4599-aa5e-5dd69b5fe498",
   "metadata": {},
   "outputs": [],
   "source": [
    "my_data.clear()"
   ]
  },
  {
   "cell_type": "code",
   "execution_count": 101,
   "id": "bca1f08e-eb71-4874-821b-1ee62a6d8d10",
   "metadata": {},
   "outputs": [
    {
     "data": {
      "text/plain": [
       "{}"
      ]
     },
     "execution_count": 101,
     "metadata": {},
     "output_type": "execute_result"
    }
   ],
   "source": [
    "my_data"
   ]
  },
  {
   "cell_type": "markdown",
   "id": "c4b4c3d9-1d25-4aa9-bacb-46b23781e1d8",
   "metadata": {},
   "source": [
    "# 6. If statement "
   ]
  },
  {
   "cell_type": "raw",
   "id": "8142c9f3-c638-473c-9470-e189ca0d7764",
   "metadata": {},
   "source": [
    "if <condition>:\n",
    "    <code>\n",
    "elif <condition>:\n",
    "    <code>\n",
    "...\n",
    "else:\n",
    "    <code>"
   ]
  },
  {
   "cell_type": "code",
   "execution_count": 106,
   "id": "9296522b-81a1-413f-8f97-dfb2891cf27f",
   "metadata": {},
   "outputs": [
    {
     "name": "stdout",
     "output_type": "stream",
     "text": [
      "You're an adullt!\n"
     ]
    }
   ],
   "source": [
    "age = 19\n",
    "\n",
    "if age >= 18:\n",
    "    print(\"You're an adullt!\")\n",
    "elif age >= 13:\n",
    "    print(\"You're an teenager\")\n",
    "else: \n",
    "    print(\"You're a Kid!\")"
   ]
  },
  {
   "cell_type": "markdown",
   "id": "4f505e8d-7498-4ada-b86e-69e35f38d305",
   "metadata": {},
   "source": [
    "# 7. For Loop"
   ]
  },
  {
   "cell_type": "raw",
   "id": "9a4ebffc-88ec-4b6f-979c-76aef8646d0f",
   "metadata": {},
   "source": [
    "for <varaible> in <iterable>:\n",
    "    <code>"
   ]
  },
  {
   "cell_type": "code",
   "execution_count": 108,
   "id": "df7eeb0c-e158-4ccf-84e3-c2b4d92abc3c",
   "metadata": {},
   "outputs": [
    {
     "data": {
      "text/plain": [
       "['United State', 'India', 'China']"
      ]
     },
     "execution_count": 108,
     "metadata": {},
     "output_type": "execute_result"
    }
   ],
   "source": [
    "new_countries"
   ]
  },
  {
   "cell_type": "code",
   "execution_count": 109,
   "id": "1691de44-b9cb-4f8b-9e62-1465d4383d9e",
   "metadata": {},
   "outputs": [
    {
     "name": "stdout",
     "output_type": "stream",
     "text": [
      "United State\n",
      "India\n",
      "China\n"
     ]
    }
   ],
   "source": [
    "for country in new_countries:\n",
    "    print(country)"
   ]
  },
  {
   "cell_type": "code",
   "execution_count": 110,
   "id": "932aeb6b-b15b-4791-93c6-ccd34fa57d43",
   "metadata": {},
   "outputs": [
    {
     "name": "stdout",
     "output_type": "stream",
     "text": [
      "0\n",
      "United State\n",
      "1\n",
      "India\n",
      "2\n",
      "China\n"
     ]
    }
   ],
   "source": [
    "for i, country in enumerate(new_countries):\n",
    "    print(i)\n",
    "    print(country)"
   ]
  },
  {
   "cell_type": "code",
   "execution_count": 111,
   "id": "46e4f5bb-afef-444c-9037-4697dec5c0e2",
   "metadata": {},
   "outputs": [],
   "source": [
    "my_data = {'name':'Manish Kumar', 'age':23}"
   ]
  },
  {
   "cell_type": "code",
   "execution_count": 112,
   "id": "1f493d7b-4b71-4db4-86d3-d387de1411e4",
   "metadata": {},
   "outputs": [
    {
     "name": "stdout",
     "output_type": "stream",
     "text": [
      "name\n",
      "Manish Kumar\n",
      "age\n",
      "23\n"
     ]
    }
   ],
   "source": [
    "for key, value in my_data.items():\n",
    "    print(key)\n",
    "    print(value)"
   ]
  },
  {
   "cell_type": "markdown",
   "id": "d4234593-9405-440d-8d92-247688b5d07a",
   "metadata": {},
   "source": [
    "# 8. Functions"
   ]
  },
  {
   "cell_type": "raw",
   "id": "cc02de4d-e820-4a53-be32-fc4bd7d472a8",
   "metadata": {},
   "source": [
    "def function(<parameter>):\n",
    "    <code>\n",
    "    return <data>"
   ]
  },
  {
   "cell_type": "code",
   "execution_count": 114,
   "id": "b39486c9-9467-47ff-8efc-1c76d76433e3",
   "metadata": {},
   "outputs": [],
   "source": [
    "def sum(a, b):\n",
    "    x = a + b\n",
    "    return x"
   ]
  },
  {
   "cell_type": "code",
   "execution_count": 115,
   "id": "d49dfa75-4087-480a-b7cc-f8939b1c7268",
   "metadata": {},
   "outputs": [
    {
     "data": {
      "text/plain": [
       "3"
      ]
     },
     "execution_count": 115,
     "metadata": {},
     "output_type": "execute_result"
    }
   ],
   "source": [
    "sum(1, 2)"
   ]
  },
  {
   "cell_type": "markdown",
   "id": "9bc9770b-dc4b-4e0f-8c1e-e201cd6adeef",
   "metadata": {},
   "source": [
    "## 8.0.1 Buitl-in Finctions"
   ]
  },
  {
   "cell_type": "code",
   "execution_count": 117,
   "id": "d5e08e10-efe6-4b93-9702-3847436dd2db",
   "metadata": {},
   "outputs": [
    {
     "data": {
      "text/plain": [
       "['United State', 'India', 'China']"
      ]
     },
     "execution_count": 117,
     "metadata": {},
     "output_type": "execute_result"
    }
   ],
   "source": [
    "new_countries"
   ]
  },
  {
   "cell_type": "code",
   "execution_count": 119,
   "id": "0f0692a5-55db-448a-a44c-47a7777152df",
   "metadata": {},
   "outputs": [
    {
     "data": {
      "text/plain": [
       "3"
      ]
     },
     "execution_count": 119,
     "metadata": {},
     "output_type": "execute_result"
    }
   ],
   "source": [
    "# it will calculate the length\n",
    "len(new_countries)"
   ]
  },
  {
   "cell_type": "code",
   "execution_count": 120,
   "id": "d410cdd8-f4ff-4bdf-ad26-e958214413f3",
   "metadata": {},
   "outputs": [
    {
     "data": {
      "text/plain": [
       "20"
      ]
     },
     "execution_count": 120,
     "metadata": {},
     "output_type": "execute_result"
    }
   ],
   "source": [
    "# it will find the maximum value\n",
    "max([1, 4, 2, 20, 10, 5])"
   ]
  },
  {
   "cell_type": "code",
   "execution_count": 121,
   "id": "ea308e87-40f2-478f-b960-60f60a15438b",
   "metadata": {},
   "outputs": [
    {
     "data": {
      "text/plain": [
       "1"
      ]
     },
     "execution_count": 121,
     "metadata": {},
     "output_type": "execute_result"
    }
   ],
   "source": [
    "# it will find the minimum value\n",
    "min([1, 4, 2, 20, 10, 5])"
   ]
  },
  {
   "cell_type": "code",
   "execution_count": 122,
   "id": "43becc05-feb3-4d51-9efc-319f52f9a6a2",
   "metadata": {},
   "outputs": [
    {
     "data": {
      "text/plain": [
       "list"
      ]
     },
     "execution_count": 122,
     "metadata": {},
     "output_type": "execute_result"
    }
   ],
   "source": [
    "type(new_countries)"
   ]
  },
  {
   "cell_type": "code",
   "execution_count": 123,
   "id": "1b078f2e-b7c4-4abe-9539-f7662974c977",
   "metadata": {},
   "outputs": [
    {
     "name": "stdout",
     "output_type": "stream",
     "text": [
      "1\n",
      "3\n",
      "5\n",
      "7\n",
      "9\n",
      "11\n",
      "13\n"
     ]
    }
   ],
   "source": [
    "for i in range(1, 15, 2):\n",
    "    print(i)"
   ]
  },
  {
   "cell_type": "markdown",
   "id": "b84c16e5-9188-4e04-8e33-df091050526c",
   "metadata": {},
   "source": [
    "# 9. Module"
   ]
  },
  {
   "cell_type": "raw",
   "id": "2186a119-7d90-456b-a8fc-c0aa3be40ef8",
   "metadata": {},
   "source": [
    "import"
   ]
  },
  {
   "cell_type": "markdown",
   "id": "e5ba876b-3a65-4c20-8789-ed624c5ee9fe",
   "metadata": {},
   "source": [
    "## 9.0.1 OS Module"
   ]
  },
  {
   "cell_type": "code",
   "execution_count": 125,
   "id": "50d2a9b6-83d0-4e11-8e95-ecb09ea4900a",
   "metadata": {},
   "outputs": [],
   "source": [
    "import os"
   ]
  },
  {
   "cell_type": "code",
   "execution_count": 126,
   "id": "9637f16a-44e5-4012-a6b2-3de147a99d99",
   "metadata": {},
   "outputs": [
    {
     "data": {
      "text/plain": [
       "'C:\\\\Users\\\\win\\\\Anoconda Script\\\\Data Science'"
      ]
     },
     "execution_count": 126,
     "metadata": {},
     "output_type": "execute_result"
    }
   ],
   "source": [
    "os.getcwd()"
   ]
  },
  {
   "cell_type": "code",
   "execution_count": 127,
   "id": "01269981-a480-4cb1-8955-d2d15bb54442",
   "metadata": {},
   "outputs": [
    {
     "data": {
      "text/plain": [
       "['.ipynb_checkpoints', 'Example.ipynb']"
      ]
     },
     "execution_count": 127,
     "metadata": {},
     "output_type": "execute_result"
    }
   ],
   "source": [
    "os.listdir()"
   ]
  }
 ],
 "metadata": {
  "kernelspec": {
   "display_name": "Python 3 (ipykernel)",
   "language": "python",
   "name": "python3"
  },
  "language_info": {
   "codemirror_mode": {
    "name": "ipython",
    "version": 3
   },
   "file_extension": ".py",
   "mimetype": "text/x-python",
   "name": "python",
   "nbconvert_exporter": "python",
   "pygments_lexer": "ipython3",
   "version": "3.13.5"
  }
 },
 "nbformat": 4,
 "nbformat_minor": 5
}
