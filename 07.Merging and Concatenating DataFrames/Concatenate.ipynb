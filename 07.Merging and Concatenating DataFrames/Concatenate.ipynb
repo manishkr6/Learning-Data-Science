{
 "cells": [
  {
   "cell_type": "code",
   "execution_count": 2,
   "id": "b6854515",
   "metadata": {},
   "outputs": [],
   "source": [
    "import pandas as pd"
   ]
  },
  {
   "cell_type": "code",
   "execution_count": 3,
   "id": "d917775d",
   "metadata": {},
   "outputs": [],
   "source": [
    "df_movies = pd.read_csv(\"IMDb movies.csv\", low_memory=False)\n",
    "df_ratings = pd.read_csv(\"IMDb ratings.csv\")"
   ]
  },
  {
   "cell_type": "code",
   "execution_count": 4,
   "id": "83f52f04",
   "metadata": {},
   "outputs": [
    {
     "data": {
      "text/plain": [
       "Index(['imdb_title_id', 'weighted_average_vote', 'total_votes', 'mean_vote',\n",
       "       'median_vote', 'votes_10', 'votes_9', 'votes_8', 'votes_7', 'votes_6',\n",
       "       'votes_5', 'votes_4', 'votes_3', 'votes_2', 'votes_1',\n",
       "       'allgenders_0age_avg_vote', 'allgenders_0age_votes',\n",
       "       'allgenders_18age_avg_vote', 'allgenders_18age_votes',\n",
       "       'allgenders_30age_avg_vote', 'allgenders_30age_votes',\n",
       "       'allgenders_45age_avg_vote', 'allgenders_45age_votes',\n",
       "       'males_allages_avg_vote', 'males_allages_votes', 'males_0age_avg_vote',\n",
       "       'males_0age_votes', 'males_18age_avg_vote', 'males_18age_votes',\n",
       "       'males_30age_avg_vote', 'males_30age_votes', 'males_45age_avg_vote',\n",
       "       'males_45age_votes', 'females_allages_avg_vote',\n",
       "       'females_allages_votes', 'females_0age_avg_vote', 'females_0age_votes',\n",
       "       'females_18age_avg_vote', 'females_18age_votes',\n",
       "       'females_30age_avg_vote', 'females_30age_votes',\n",
       "       'females_45age_avg_vote', 'females_45age_votes',\n",
       "       'top1000_voters_rating', 'top1000_voters_votes', 'us_voters_rating',\n",
       "       'us_voters_votes', 'non_us_voters_rating', 'non_us_voters_votes'],\n",
       "      dtype='object')"
      ]
     },
     "execution_count": 4,
     "metadata": {},
     "output_type": "execute_result"
    }
   ],
   "source": [
    "df_movies.columns\n",
    "df_ratings.columns"
   ]
  },
  {
   "cell_type": "code",
   "execution_count": 5,
   "id": "dff61036",
   "metadata": {},
   "outputs": [],
   "source": [
    "df_movies = df_movies[['imdb_title_id', 'title', 'year', 'genre', 'country']]\n",
    "df_ratings = df_ratings[['imdb_title_id', 'total_votes', 'mean_vote']]"
   ]
  },
  {
   "cell_type": "code",
   "execution_count": 6,
   "id": "506e7879",
   "metadata": {},
   "outputs": [
    {
     "data": {
      "text/html": [
       "<div>\n",
       "<style scoped>\n",
       "    .dataframe tbody tr th:only-of-type {\n",
       "        vertical-align: middle;\n",
       "    }\n",
       "\n",
       "    .dataframe tbody tr th {\n",
       "        vertical-align: top;\n",
       "    }\n",
       "\n",
       "    .dataframe thead th {\n",
       "        text-align: right;\n",
       "    }\n",
       "</style>\n",
       "<table border=\"1\" class=\"dataframe\">\n",
       "  <thead>\n",
       "    <tr style=\"text-align: right;\">\n",
       "      <th></th>\n",
       "      <th>imdb_title_id</th>\n",
       "      <th>total_votes</th>\n",
       "      <th>mean_vote</th>\n",
       "    </tr>\n",
       "  </thead>\n",
       "  <tbody>\n",
       "    <tr>\n",
       "      <th>0</th>\n",
       "      <td>tt0000009</td>\n",
       "      <td>154</td>\n",
       "      <td>5.9</td>\n",
       "    </tr>\n",
       "    <tr>\n",
       "      <th>1</th>\n",
       "      <td>tt0000574</td>\n",
       "      <td>589</td>\n",
       "      <td>6.3</td>\n",
       "    </tr>\n",
       "    <tr>\n",
       "      <th>2</th>\n",
       "      <td>tt0001892</td>\n",
       "      <td>188</td>\n",
       "      <td>6.0</td>\n",
       "    </tr>\n",
       "    <tr>\n",
       "      <th>3</th>\n",
       "      <td>tt0002101</td>\n",
       "      <td>446</td>\n",
       "      <td>5.3</td>\n",
       "    </tr>\n",
       "    <tr>\n",
       "      <th>4</th>\n",
       "      <td>tt0002130</td>\n",
       "      <td>2237</td>\n",
       "      <td>6.9</td>\n",
       "    </tr>\n",
       "    <tr>\n",
       "      <th>...</th>\n",
       "      <td>...</td>\n",
       "      <td>...</td>\n",
       "      <td>...</td>\n",
       "    </tr>\n",
       "    <tr>\n",
       "      <th>85850</th>\n",
       "      <td>tt9908390</td>\n",
       "      <td>398</td>\n",
       "      <td>5.5</td>\n",
       "    </tr>\n",
       "    <tr>\n",
       "      <th>85851</th>\n",
       "      <td>tt9911196</td>\n",
       "      <td>724</td>\n",
       "      <td>7.9</td>\n",
       "    </tr>\n",
       "    <tr>\n",
       "      <th>85852</th>\n",
       "      <td>tt9911774</td>\n",
       "      <td>265</td>\n",
       "      <td>7.8</td>\n",
       "    </tr>\n",
       "    <tr>\n",
       "      <th>85853</th>\n",
       "      <td>tt9914286</td>\n",
       "      <td>194</td>\n",
       "      <td>9.4</td>\n",
       "    </tr>\n",
       "    <tr>\n",
       "      <th>85854</th>\n",
       "      <td>tt9914942</td>\n",
       "      <td>102</td>\n",
       "      <td>6.8</td>\n",
       "    </tr>\n",
       "  </tbody>\n",
       "</table>\n",
       "<p>85855 rows × 3 columns</p>\n",
       "</div>"
      ],
      "text/plain": [
       "      imdb_title_id  total_votes  mean_vote\n",
       "0         tt0000009          154        5.9\n",
       "1         tt0000574          589        6.3\n",
       "2         tt0001892          188        6.0\n",
       "3         tt0002101          446        5.3\n",
       "4         tt0002130         2237        6.9\n",
       "...             ...          ...        ...\n",
       "85850     tt9908390          398        5.5\n",
       "85851     tt9911196          724        7.9\n",
       "85852     tt9911774          265        7.8\n",
       "85853     tt9914286          194        9.4\n",
       "85854     tt9914942          102        6.8\n",
       "\n",
       "[85855 rows x 3 columns]"
      ]
     },
     "execution_count": 6,
     "metadata": {},
     "output_type": "execute_result"
    }
   ],
   "source": [
    "df_ratings"
   ]
  },
  {
   "cell_type": "markdown",
   "id": "0d477b61",
   "metadata": {},
   "source": [
    "## **1 concat()**\n",
    "\n",
    "### 1.1 Concatenate vertically"
   ]
  },
  {
   "cell_type": "code",
   "execution_count": 9,
   "id": "a8bf8196",
   "metadata": {},
   "outputs": [],
   "source": [
    "df1 = pd.DataFrame({'id': ['A', 'B', 'C', 'D'],\n",
    "                    'age': [30, 23, 25, 22]})\n",
    "df2 = pd.DataFrame({'id': ['E', 'F', 'G', 'H'],\n",
    "                    'age': [40, 21, 19, 24]})"
   ]
  },
  {
   "cell_type": "code",
   "execution_count": 11,
   "id": "3fbc6881",
   "metadata": {},
   "outputs": [
    {
     "data": {
      "text/html": [
       "<div>\n",
       "<style scoped>\n",
       "    .dataframe tbody tr th:only-of-type {\n",
       "        vertical-align: middle;\n",
       "    }\n",
       "\n",
       "    .dataframe tbody tr th {\n",
       "        vertical-align: top;\n",
       "    }\n",
       "\n",
       "    .dataframe thead th {\n",
       "        text-align: right;\n",
       "    }\n",
       "</style>\n",
       "<table border=\"1\" class=\"dataframe\">\n",
       "  <thead>\n",
       "    <tr style=\"text-align: right;\">\n",
       "      <th></th>\n",
       "      <th>id</th>\n",
       "      <th>age</th>\n",
       "    </tr>\n",
       "  </thead>\n",
       "  <tbody>\n",
       "    <tr>\n",
       "      <th>0</th>\n",
       "      <td>A</td>\n",
       "      <td>30</td>\n",
       "    </tr>\n",
       "    <tr>\n",
       "      <th>1</th>\n",
       "      <td>B</td>\n",
       "      <td>23</td>\n",
       "    </tr>\n",
       "    <tr>\n",
       "      <th>2</th>\n",
       "      <td>C</td>\n",
       "      <td>25</td>\n",
       "    </tr>\n",
       "    <tr>\n",
       "      <th>3</th>\n",
       "      <td>D</td>\n",
       "      <td>22</td>\n",
       "    </tr>\n",
       "    <tr>\n",
       "      <th>4</th>\n",
       "      <td>E</td>\n",
       "      <td>40</td>\n",
       "    </tr>\n",
       "    <tr>\n",
       "      <th>5</th>\n",
       "      <td>F</td>\n",
       "      <td>21</td>\n",
       "    </tr>\n",
       "    <tr>\n",
       "      <th>6</th>\n",
       "      <td>G</td>\n",
       "      <td>19</td>\n",
       "    </tr>\n",
       "    <tr>\n",
       "      <th>7</th>\n",
       "      <td>H</td>\n",
       "      <td>24</td>\n",
       "    </tr>\n",
       "  </tbody>\n",
       "</table>\n",
       "</div>"
      ],
      "text/plain": [
       "  id  age\n",
       "0  A   30\n",
       "1  B   23\n",
       "2  C   25\n",
       "3  D   22\n",
       "4  E   40\n",
       "5  F   21\n",
       "6  G   19\n",
       "7  H   24"
      ]
     },
     "execution_count": 11,
     "metadata": {},
     "output_type": "execute_result"
    }
   ],
   "source": [
    "pd.concat([df1, df2], axis=0, ignore_index=True)"
   ]
  },
  {
   "cell_type": "markdown",
   "id": "be8a3150",
   "metadata": {},
   "source": [
    "### 1.1.1 Exercise"
   ]
  },
  {
   "cell_type": "code",
   "execution_count": 13,
   "id": "57c32b13",
   "metadata": {},
   "outputs": [],
   "source": [
    "# extract a 50% sample of the original dataframe (df_movies)\n",
    "df_sample = df_movies.sample(frac=0.5)"
   ]
  },
  {
   "cell_type": "code",
   "execution_count": 15,
   "id": "212e51c2",
   "metadata": {},
   "outputs": [
    {
     "data": {
      "text/plain": [
       "((42928, 5), (85855, 5))"
      ]
     },
     "execution_count": 15,
     "metadata": {},
     "output_type": "execute_result"
    }
   ],
   "source": [
    "# shape of dataframes that we'll concatenate\n",
    "df_sample.shape, df_movies.shape"
   ]
  },
  {
   "cell_type": "code",
   "execution_count": 17,
   "id": "46ac8112",
   "metadata": {},
   "outputs": [],
   "source": [
    "# concatenate and df_movies and df_sample (vertically along the rows)\n",
    "df_concat_vertically = pd.concat([df_movies, df_sample], axis=0)"
   ]
  },
  {
   "cell_type": "code",
   "execution_count": 18,
   "id": "a3c3f3d9",
   "metadata": {},
   "outputs": [
    {
     "data": {
      "text/plain": [
       "(128783, 5)"
      ]
     },
     "execution_count": 18,
     "metadata": {},
     "output_type": "execute_result"
    }
   ],
   "source": [
    "# shape\n",
    "df_concat_vertically.shape"
   ]
  },
  {
   "cell_type": "markdown",
   "id": "d534de2c",
   "metadata": {},
   "source": [
    "### 1.2 Concatenate horizontally"
   ]
  },
  {
   "cell_type": "code",
   "execution_count": 19,
   "id": "f998a666",
   "metadata": {},
   "outputs": [],
   "source": [
    "df1 = pd.DataFrame({'id': ['A', 'B', 'C', 'D'],\n",
    "                    'age': [30, 23, 25, 22]})\n",
    "df2 = pd.DataFrame({'job': ['Doctor', 'Statistician', 'Accountant', 'Developer']})"
   ]
  },
  {
   "cell_type": "code",
   "execution_count": 23,
   "id": "6615edaa",
   "metadata": {},
   "outputs": [
    {
     "data": {
      "text/html": [
       "<div>\n",
       "<style scoped>\n",
       "    .dataframe tbody tr th:only-of-type {\n",
       "        vertical-align: middle;\n",
       "    }\n",
       "\n",
       "    .dataframe tbody tr th {\n",
       "        vertical-align: top;\n",
       "    }\n",
       "\n",
       "    .dataframe thead th {\n",
       "        text-align: right;\n",
       "    }\n",
       "</style>\n",
       "<table border=\"1\" class=\"dataframe\">\n",
       "  <thead>\n",
       "    <tr style=\"text-align: right;\">\n",
       "      <th></th>\n",
       "      <th>id</th>\n",
       "      <th>age</th>\n",
       "      <th>job</th>\n",
       "    </tr>\n",
       "  </thead>\n",
       "  <tbody>\n",
       "    <tr>\n",
       "      <th>0</th>\n",
       "      <td>A</td>\n",
       "      <td>30</td>\n",
       "      <td>Doctor</td>\n",
       "    </tr>\n",
       "    <tr>\n",
       "      <th>1</th>\n",
       "      <td>B</td>\n",
       "      <td>23</td>\n",
       "      <td>Statistician</td>\n",
       "    </tr>\n",
       "    <tr>\n",
       "      <th>2</th>\n",
       "      <td>C</td>\n",
       "      <td>25</td>\n",
       "      <td>Accountant</td>\n",
       "    </tr>\n",
       "    <tr>\n",
       "      <th>3</th>\n",
       "      <td>D</td>\n",
       "      <td>22</td>\n",
       "      <td>Developer</td>\n",
       "    </tr>\n",
       "  </tbody>\n",
       "</table>\n",
       "</div>"
      ],
      "text/plain": [
       "  id  age           job\n",
       "0  A   30        Doctor\n",
       "1  B   23  Statistician\n",
       "2  C   25    Accountant\n",
       "3  D   22     Developer"
      ]
     },
     "execution_count": 23,
     "metadata": {},
     "output_type": "execute_result"
    }
   ],
   "source": [
    "pd.concat([df1, df2], axis=1)"
   ]
  },
  {
   "cell_type": "markdown",
   "id": "c6f02aaa",
   "metadata": {},
   "source": [
    "### 1.2.1 Exercise"
   ]
  },
  {
   "cell_type": "code",
   "execution_count": 25,
   "id": "f6011963",
   "metadata": {},
   "outputs": [
    {
     "data": {
      "text/plain": [
       "((85855, 5), (85855, 3))"
      ]
     },
     "execution_count": 25,
     "metadata": {},
     "output_type": "execute_result"
    }
   ],
   "source": [
    "# shape of dataframes that we'll concatenate\n",
    "df_movies.shape, df_ratings.shape"
   ]
  },
  {
   "cell_type": "code",
   "execution_count": 26,
   "id": "a923a564",
   "metadata": {},
   "outputs": [],
   "source": [
    "df_movies.set_index('imdb_title_id', inplace=True)\n",
    "df_ratings.set_index('imdb_title_id', inplace=True)"
   ]
  },
  {
   "cell_type": "code",
   "execution_count": 28,
   "id": "e99eb414",
   "metadata": {},
   "outputs": [],
   "source": [
    "# concatenate df_movies and df_ratings on 'imbd_title_id' (horizontally along the columns)\n",
    "df_concat_horizontally = pd.concat([df_movies, df_ratings], axis=1)"
   ]
  },
  {
   "cell_type": "code",
   "execution_count": 29,
   "id": "70832eec",
   "metadata": {},
   "outputs": [
    {
     "data": {
      "text/plain": [
       "(85855, 6)"
      ]
     },
     "execution_count": 29,
     "metadata": {},
     "output_type": "execute_result"
    }
   ],
   "source": [
    "# shape\n",
    "df_concat_horizontally.shape"
   ]
  },
  {
   "cell_type": "code",
   "execution_count": null,
   "id": "d79334d8",
   "metadata": {},
   "outputs": [],
   "source": []
  }
 ],
 "metadata": {
  "kernelspec": {
   "display_name": "Python 3",
   "language": "python",
   "name": "python3"
  },
  "language_info": {
   "codemirror_mode": {
    "name": "ipython",
    "version": 3
   },
   "file_extension": ".py",
   "mimetype": "text/x-python",
   "name": "python",
   "nbconvert_exporter": "python",
   "pygments_lexer": "ipython3",
   "version": "3.13.5"
  }
 },
 "nbformat": 4,
 "nbformat_minor": 5
}
