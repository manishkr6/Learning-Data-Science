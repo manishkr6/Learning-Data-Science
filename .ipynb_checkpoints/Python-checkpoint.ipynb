{
 "cells": [
  {
   "cell_type": "code",
   "execution_count": 1,
   "id": "feb44ff4-54b1-467b-b54b-27b593f39c1e",
   "metadata": {},
   "outputs": [
    {
     "data": {
      "text/plain": [
       "123"
      ]
     },
     "execution_count": 1,
     "metadata": {},
     "output_type": "execute_result"
    }
   ],
   "source": [
    "123"
   ]
  },
  {
   "cell_type": "markdown",
   "id": "b2662c25-83b6-40c4-b1c4-336b0e76d524",
   "metadata": {},
   "source": [
    "# title"
   ]
  },
  {
   "cell_type": "code",
   "execution_count": null,
   "id": "51912fab-7ed4-48bf-9bbb-2741680484f7",
   "metadata": {},
   "outputs": [],
   "source": []
  },
  {
   "cell_type": "markdown",
   "id": "14b29887-a9e2-4028-806f-c97f9e83d1fc",
   "metadata": {},
   "source": [
    "## subtitle"
   ]
  },
  {
   "cell_type": "code",
   "execution_count": null,
   "id": "64570e2f-1420-425d-8f81-90bcb98e46bc",
   "metadata": {},
   "outputs": [],
   "source": [
    "\"Hello Manish\""
   ]
  },
  {
   "cell_type": "code",
   "execution_count": null,
   "id": "02b6bb4f-314d-4c5c-97cb-261ee23473ad",
   "metadata": {},
   "outputs": [],
   "source": []
  }
 ],
 "metadata": {
  "kernelspec": {
   "display_name": "Python 3 (ipykernel)",
   "language": "python",
   "name": "python3"
  },
  "language_info": {
   "codemirror_mode": {
    "name": "ipython",
    "version": 3
   },
   "file_extension": ".py",
   "mimetype": "text/x-python",
   "name": "python",
   "nbconvert_exporter": "python",
   "pygments_lexer": "ipython3",
   "version": "3.13.5"
  }
 },
 "nbformat": 4,
 "nbformat_minor": 5
}
