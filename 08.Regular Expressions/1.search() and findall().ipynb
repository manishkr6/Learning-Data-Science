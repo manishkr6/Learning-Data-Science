{
 "cells": [
  {
   "cell_type": "markdown",
   "id": "9387a4ed",
   "metadata": {},
   "source": [
    "# 1 The re module"
   ]
  },
  {
   "cell_type": "code",
   "execution_count": 1,
   "id": "3b68e1c7",
   "metadata": {},
   "outputs": [],
   "source": [
    "import re"
   ]
  },
  {
   "cell_type": "markdown",
   "id": "484ddc37",
   "metadata": {},
   "source": [
    "## 1.1 re.search()"
   ]
  },
  {
   "cell_type": "code",
   "execution_count": 4,
   "id": "dc9084ac",
   "metadata": {},
   "outputs": [],
   "source": [
    "text = \"\"\"Hello World.\n",
    "I love Python!!!!!\n",
    "My first lucky number is 987-654-321\n",
    "My second lucky number is 876-543-210\n",
    "My third lucky number is 765-432-100\n",
    "My fourth lucky number is 123-456-123-123-456\n",
    "\"\"\""
   ]
  },
  {
   "cell_type": "code",
   "execution_count": 5,
   "id": "eae6c35d",
   "metadata": {},
   "outputs": [
    {
     "data": {
      "text/plain": [
       "<re.Match object; span=(57, 58), match='9'>"
      ]
     },
     "execution_count": 5,
     "metadata": {},
     "output_type": "execute_result"
    }
   ],
   "source": [
    "# return the first match\n",
    "re.search(r'\\d', text)"
   ]
  },
  {
   "cell_type": "code",
   "execution_count": 7,
   "id": "f7936ff4",
   "metadata": {},
   "outputs": [
    {
     "data": {
      "text/plain": [
       "<re.Match object; span=(0, 5), match='Hello'>"
      ]
     },
     "execution_count": 7,
     "metadata": {},
     "output_type": "execute_result"
    }
   ],
   "source": [
    "# flags\n",
    "re.search(r'^hello', text, flags=re.I)"
   ]
  },
  {
   "cell_type": "markdown",
   "id": "e676901a",
   "metadata": {},
   "source": [
    "# 2 re.findall()"
   ]
  },
  {
   "cell_type": "code",
   "execution_count": 9,
   "id": "3f603c78",
   "metadata": {},
   "outputs": [
    {
     "data": {
      "text/plain": [
       "['9',\n",
       " '8',\n",
       " '7',\n",
       " '6',\n",
       " '5',\n",
       " '4',\n",
       " '3',\n",
       " '2',\n",
       " '1',\n",
       " '8',\n",
       " '7',\n",
       " '6',\n",
       " '5',\n",
       " '4',\n",
       " '3',\n",
       " '2',\n",
       " '1',\n",
       " '0',\n",
       " '7',\n",
       " '6',\n",
       " '5',\n",
       " '4',\n",
       " '3',\n",
       " '2',\n",
       " '1',\n",
       " '0',\n",
       " '0',\n",
       " '1',\n",
       " '2',\n",
       " '3',\n",
       " '4',\n",
       " '5',\n",
       " '6',\n",
       " '1',\n",
       " '2',\n",
       " '3',\n",
       " '1',\n",
       " '2',\n",
       " '3',\n",
       " '4',\n",
       " '5',\n",
       " '6']"
      ]
     },
     "execution_count": 9,
     "metadata": {},
     "output_type": "execute_result"
    }
   ],
   "source": [
    "# return all the matches\n",
    "re.findall(r'\\d', text)"
   ]
  },
  {
   "cell_type": "markdown",
   "id": "b194c0dc",
   "metadata": {},
   "source": [
    "# 3 Exercises"
   ]
  },
  {
   "cell_type": "code",
   "execution_count": 10,
   "id": "0f2d5421",
   "metadata": {},
   "outputs": [
    {
     "data": {
      "text/plain": [
       "['.',\n",
       " '!',\n",
       " '!',\n",
       " '!',\n",
       " '!',\n",
       " '!',\n",
       " '-',\n",
       " '-',\n",
       " '-',\n",
       " '-',\n",
       " '-',\n",
       " '-',\n",
       " '-',\n",
       " '-',\n",
       " '-',\n",
       " '-']"
      ]
     },
     "execution_count": 10,
     "metadata": {},
     "output_type": "execute_result"
    }
   ],
   "source": [
    "# Match only punctuation\n",
    "text = \"\"\"Hello World.\n",
    "I love Python!!!!!\n",
    "My first lucky number is 987-654-321\n",
    "My second lucky number is 876-543-210\n",
    "My third lucky number is 765-432-100\n",
    "My fourth lucky number is 123-456-123-123-456\n",
    "\"\"\"\n",
    "re.findall(r'[^\\w\\s]', text)"
   ]
  },
  {
   "cell_type": "code",
   "execution_count": 12,
   "id": "2f36478f",
   "metadata": {},
   "outputs": [
    {
     "data": {
      "text/plain": [
       "['13-04-2021']"
      ]
     },
     "execution_count": 12,
     "metadata": {},
     "output_type": "execute_result"
    }
   ],
   "source": [
    "# Match right date format (MM-DD-YYYY)\n",
    "text = '''\n",
    "13-04-2021\n",
    "2021-13-04\n",
    "2021-04-13\n",
    "'''\n",
    "re.findall(r'\\d{2}-\\d{2}-\\d{4}', text)"
   ]
  },
  {
   "cell_type": "code",
   "execution_count": 13,
   "id": "1811b667",
   "metadata": {},
   "outputs": [
    {
     "data": {
      "text/plain": [
       "['username10']"
      ]
     },
     "execution_count": 13,
     "metadata": {},
     "output_type": "execute_result"
    }
   ],
   "source": [
    "# Match right username format (4-14 characters and only letters or digits)\n",
    "text = '''\n",
    "username10\n",
    "abc\n",
    "10\n",
    "'''\n",
    "re.findall(r'[a-zA-Z0-9]{4,14}', text)"
   ]
  },
  {
   "cell_type": "code",
   "execution_count": null,
   "id": "c579c4b4",
   "metadata": {},
   "outputs": [],
   "source": []
  }
 ],
 "metadata": {
  "kernelspec": {
   "display_name": "Python 3",
   "language": "python",
   "name": "python3"
  },
  "language_info": {
   "codemirror_mode": {
    "name": "ipython",
    "version": 3
   },
   "file_extension": ".py",
   "mimetype": "text/x-python",
   "name": "python",
   "nbconvert_exporter": "python",
   "pygments_lexer": "ipython3",
   "version": "3.13.5"
  }
 },
 "nbformat": 4,
 "nbformat_minor": 5
}
